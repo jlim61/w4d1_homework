{
 "cells": [
  {
   "cell_type": "markdown",
   "metadata": {
    "id": "_mU3UVFXmPrr"
   },
   "source": [
    "# Asymptotic Analysis & Data Structures\n",
    "\n",
    "### Topics to discuss today:\n",
    "\n",
    "<ul>\n",
    "    <li>What is Asymptotic Analysis?</li>\n",
    "    <li>Classifying time complexities</li>\n",
    "    <li>Classifying space complexities</li>\n",
    "    <li>Implementing a LinkedList</li>\n",
    "</ul>"
   ]
  },
  {
   "cell_type": "markdown",
   "metadata": {
    "id": "-y4k-GcWmPrv"
   },
   "source": [
    "### What is Asymptotic Analysis?\n",
    "\n",
    "Asymptotic analysis refers to setting mathematical bounds of an algorithms run-time performance. Asymptotic analysis is used for estimating time and space complexity.\n",
    "\n",
    "There are three metrics we measure:\n",
    "<ul>\n",
    "<li><b>Best Case</b> − Minimum time required for running.</li>\n",
    "<li><b>Average Case</b> − Average time required for running.</li>\n",
    "<li><b>Worst Case</b> − Maximum time required for running.</li>\n",
    "</ul>\n",
    "\n",
    "Here are the two major asymptotic notations that we'll be focusing on today:\n",
    "<ul>\n",
    "<li>Ο Notation (Big O Notation)</li>\n",
    "<li>Ω Notation (Omega Notation)</li>\n",
    "</ul>\n",
    "\n",
    "#### Big O Notation\n",
    "Big O notation expresses the <b>upper bound</b> of an algorithm's execution time. This measures the <b>worst case</b> time complexity.\n",
    "\n",
    "#### Omega Notation\n",
    "Omega notation expresses the <b>lower bound</b> of an algorithm's execution time. This measures the <b>best case</b> time complexity."
   ]
  },
  {
   "cell_type": "markdown",
   "metadata": {
    "id": "LNFKAiqNmPrw"
   },
   "source": [
    "\n",
    "\n",
    "<table style=\"text-align:left;\" class=\"table table-bordered\">\n",
    "    <thead>\n",
    "        <tr>\n",
    "            <th>Name</th>\n",
    "            <th>Time Complexity</th>\n",
    "        </tr>\n",
    "    </thead>\n",
    "\n",
    "  <tr>\n",
    "<td>constant</td>\n",
    "<td>Ο(1)</td>\n",
    "</tr>\n",
    "<tr>\n",
    "<td>logarithmic</td>\n",
    "<td>Ο(log n)</td>\n",
    "</tr>\n",
    "<tr>\n",
    "<td>linear</td>\n",
    "<td>Ο(n)</td>\n",
    "</tr>\n",
    "<tr>\n",
    "<td>n log n</td>\n",
    "<td>Ο(n log n)</td>\n",
    "</tr>\n",
    "<tr>\n",
    "<td>quadratic</td>\n",
    "<td>Ο(n<sup>2</sup>)</td>\n",
    "</tr>\n",
    "<tr>\n",
    "<td>cubic</td>\n",
    "<td>Ο(n<sup>3</sup>)</td>\n",
    "</tr>\n",
    "<tr>\n",
    "<td>polynomial</td>\n",
    "<td>n<sup>Ο(1)</sup></td>\n",
    "</tr>\n",
    "<tr>\n",
    "<td>exponential</td>\n",
    "<td>2<sup>Ο(n)</sup></td>\n",
    "</tr>\n",
    "</table>\n",
    "\n",
    "Extra resources:\n",
    "https://www.youtube.com/watch?v=0oDAlMwTrLo"
   ]
  },
  {
   "cell_type": "markdown",
   "metadata": {
    "id": "AROyEaiMmPr1"
   },
   "source": [
    "##### O(1) Example\n",
    "No matter the size of the input data, the execution time will always be the same"
   ]
  },
  {
   "cell_type": "code",
   "execution_count": null,
   "metadata": {
    "id": "9t5syWNdmPr1"
   },
   "outputs": [],
   "source": []
  },
  {
   "cell_type": "markdown",
   "metadata": {
    "id": "iKUm8WzTmPr2"
   },
   "source": [
    "##### O(n) Example\n",
    "The execution time increases linearly with the length of the input. For each growth in size of the input, the time it takes to run increases by the same amount."
   ]
  },
  {
   "cell_type": "code",
   "execution_count": null,
   "metadata": {
    "id": "molEfcadmPr2"
   },
   "outputs": [],
   "source": []
  },
  {
   "cell_type": "markdown",
   "metadata": {
    "id": "3Hh2JT7RmPr2"
   },
   "source": [
    "##### O(log(n))\n",
    "A logarithmic time complexity increases linearly as the input increases exponentially. Usually this occurs when we decrease the size of our input as we move through our algorithm. It is O(log(n)) when we do divide and conquer type of algorithms like binary search.\n",
    "\n",
    "Additional Explanations:\n",
    "https://www.youtube.com/watch?v=wjDY5RbILno\n"
   ]
  },
  {
   "cell_type": "code",
   "execution_count": null,
   "metadata": {
    "id": "dfvmfWqbmPr3"
   },
   "outputs": [],
   "source": []
  },
  {
   "cell_type": "markdown",
   "metadata": {
    "id": "3vOEUz1qmPr3"
   },
   "source": [
    "###### O(n^2) Example\n",
    "When an algorithm needs to perform a linear time operation for each value in the input data"
   ]
  },
  {
   "cell_type": "code",
   "execution_count": null,
   "metadata": {
    "id": "4KDqoG2qmPr4"
   },
   "outputs": [],
   "source": []
  },
  {
   "cell_type": "markdown",
   "metadata": {
    "id": "1sgMCxmVmPr4"
   },
   "source": [
    "### In-Class Exercise\n",
    "In a comment in the following three cells, classify each algorithm into one of the time complexities discussed above."
   ]
  },
  {
   "cell_type": "code",
   "execution_count": null,
   "metadata": {
    "id": "N1i_wyN3mPr4"
   },
   "outputs": [],
   "source": [
    "def two_sum_loops(nums, target):\n",
    "    for i, num in enumerate(nums):\n",
    "        for j, num2 in enumerate(nums[i + 1:]):\n",
    "            if target - num == num2:\n",
    "                return [i,j+i+1]"
   ]
  },
  {
   "cell_type": "code",
   "execution_count": null,
   "metadata": {
    "id": "qZLIy-_dmPr5"
   },
   "outputs": [],
   "source": [
    "def two_sum(nums, target):\n",
    "    d={}\n",
    "    for i, num in enumerate(nums):\n",
    "        if target - num in d:\n",
    "            return [d[target-num],i]\n",
    "        d[num]=i\n",
    "    return -1"
   ]
  },
  {
   "cell_type": "code",
   "execution_count": null,
   "metadata": {
    "id": "c_OLQwK8mPr6"
   },
   "outputs": [],
   "source": [
    "def check_if_num_in_list(a_list, value):\n",
    "    return value in a_list"
   ]
  },
  {
   "cell_type": "markdown",
   "metadata": {
    "id": "4SCLEwXamPr6"
   },
   "source": [
    "## Space Complexity\n",
    "Space complexity refers to the total amount of memory space that is consumed by an algorithm. This value includes both any new values created as well as well as input values\n",
    "\n",
    "We'll use Big O notation for space complexity as well. In this case, Big O gives the worst-case of an algorithm’s growth rate.\n",
    "\n",
    "\"The space this algorithm takes will grow no more quickly than this, but it could grow more slowly.\""
   ]
  },
  {
   "cell_type": "markdown",
   "metadata": {
    "id": "1P-AfqtFmPr6"
   },
   "source": [
    "###### O(1) Example"
   ]
  },
  {
   "cell_type": "code",
   "execution_count": null,
   "metadata": {
    "id": "8Af_mtNImPr7"
   },
   "outputs": [],
   "source": []
  },
  {
   "cell_type": "markdown",
   "metadata": {
    "id": "W-4CH5wdmPr7"
   },
   "source": [
    "###### O(n) Example\n",
    "Input Space: O(n) <- This comes from aList in the input\n",
    "Auxiliary Space: O(1) <- The only variables created in the function are integers\n",
    "\n",
    "Total Space: O(n + 1) or O(n)"
   ]
  },
  {
   "cell_type": "code",
   "execution_count": null,
   "metadata": {
    "id": "yPDX45GZmPr7"
   },
   "outputs": [],
   "source": []
  },
  {
   "cell_type": "markdown",
   "metadata": {
    "id": "xhVgIdU1mPr7"
   },
   "source": [
    "The recursive calls generate new function calls in the stack. Each call on the stack stores a separate copy of the variables defined in the function. The array is passed by reference so a separate copy of the array is not created for each function call. As we can have O(log(n)) calls to the function, the space complexity of the recursive version should include the O(log(n)) auxiliary space. Hence, the overall space complexity is:\n",
    "\n",
    "Input space: O(n)\n",
    "Auxiliary space: O(log n)\n",
    "\n",
    "Total Space: O(n + log n) OR O(n)"
   ]
  },
  {
   "cell_type": "code",
   "execution_count": null,
   "metadata": {
    "id": "8jytLsiVmPr7"
   },
   "outputs": [],
   "source": []
  },
  {
   "cell_type": "code",
   "execution_count": null,
   "metadata": {
    "id": "TpYt8blzmPr7"
   },
   "outputs": [],
   "source": []
  }
 ],
 "metadata": {
  "colab": {
   "provenance": []
  },
  "kernelspec": {
   "display_name": "Python 3 (ipykernel)",
   "language": "python",
   "name": "python3"
  },
  "language_info": {
   "codemirror_mode": {
    "name": "ipython",
    "version": 3
   },
   "file_extension": ".py",
   "mimetype": "text/x-python",
   "name": "python",
   "nbconvert_exporter": "python",
   "pygments_lexer": "ipython3",
   "version": "3.11.3"
  }
 },
 "nbformat": 4,
 "nbformat_minor": 1
}
